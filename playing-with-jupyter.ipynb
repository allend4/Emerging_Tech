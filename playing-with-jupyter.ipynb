{
 "cells": [
  {
   "cell_type": "code",
   "execution_count": 1,
   "id": "3e16e70b-d34d-4130-b1f6-3dcc0dccd489",
   "metadata": {},
   "outputs": [],
   "source": [
    "i = 7\n",
    "j = 3\n",
    "k = i + j"
   ]
  },
  {
   "cell_type": "code",
   "execution_count": 2,
   "id": "05ddc797-62fc-4d8c-99ce-f8da5f81a9e5",
   "metadata": {},
   "outputs": [
    {
     "data": {
      "text/plain": [
       "10"
      ]
     },
     "execution_count": 2,
     "metadata": {},
     "output_type": "execute_result"
    }
   ],
   "source": [
    "k"
   ]
  },
  {
   "cell_type": "markdown",
   "id": "a43a897b-0297-4613-bbdf-a41ebee3e5d5",
   "metadata": {},
   "source": [
    "# This is Markdown Heading\n",
    "\n",
    "https://jupyter.org/"
   ]
  },
  {
   "cell_type": "markdown",
   "id": "0ecf1f66-764c-49df-baeb-b0428406cf60",
   "metadata": {},
   "source": [
    "## References\n",
    "\n",
    "- example\n"
   ]
  },
  {
   "cell_type": "markdown",
   "id": "288eb3e1-60ab-46a2-87b3-ab91ee876b01",
   "metadata": {},
   "source": [
    "***\n",
    "\n",
    "## End"
   ]
  }
 ],
 "metadata": {
  "kernelspec": {
   "display_name": "Python 3",
   "language": "python",
   "name": "python3"
  },
  "language_info": {
   "codemirror_mode": {
    "name": "ipython",
    "version": 3
   },
   "file_extension": ".py",
   "mimetype": "text/x-python",
   "name": "python",
   "nbconvert_exporter": "python",
   "pygments_lexer": "ipython3",
   "version": "3.8.8"
  }
 },
 "nbformat": 4,
 "nbformat_minor": 5
}
