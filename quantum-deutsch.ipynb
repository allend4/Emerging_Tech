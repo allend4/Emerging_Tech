{
 "cells": [
  {
   "cell_type": "markdown",
   "id": "7ed93918-82db-404c-9ed4-a979c97dec99",
   "metadata": {},
   "source": [
    "## quantom-deutsch"
   ]
  },
  {
   "cell_type": "raw",
   "id": "057c180f-a863-4b32-8d58-1c00c064b4e3",
   "metadata": {},
   "source": [
    "Deutsch-jozsa algorithm,” 2021. [Online]. Available: https://qiskit.org/textbook/\n",
    "ch-algorithms/deutsch-jozsa.html"
   ]
  },
  {
   "cell_type": "markdown",
   "id": "80232549-c955-43a1-9ddb-f05941f32aae",
   "metadata": {},
   "source": [
    "### Quantum Computing\n",
    "https://en.wikipedia.org/wiki/Quantum_computing \n",
    "----"
   ]
  },
  {
   "cell_type": "markdown",
   "id": "40be323b-2e53-449d-8ff4-d52cf0ea3a48",
   "metadata": {},
   "source": [
    "### What is Quantum Computing?\n",
    "https://www.ibm.com/uk-en/topics/quantum-computing\n",
    "https://azure.microsoft.com/en-us/overview/what-is-quantum-computing/\n",
    "https://www.newscientist.com/question/what-is-a-quantum-computer/\n",
    "Quantum Computers are machines which use the quantum physics properties. Uses quantum mechananics to solves problems too complex for classical computers.<br>\n",
    "Quantum computers use qubits, which enables it to be more powerful and faster than classical computings.\n",
    "----"
   ]
  },
  {
   "cell_type": "markdown",
   "id": "f3e062e2-ef8b-4b5c-ad85-19b9047d9267",
   "metadata": {},
   "source": [
    "### Classical Computing\n",
    "https://whatis.techtarget.com/definition/classical-computing\n",
    "normal computers use bits - zero's and ones, otherwise known as binary computing.\n",
    "----"
   ]
  },
  {
   "cell_type": "markdown",
   "id": "61a2936d-c337-41da-8fc9-334a7e64bc8e",
   "metadata": {},
   "source": [
    "### Quantum Computing Vs Classical Computing\n",
    "https://ec.europa.eu/research-and-innovation/en/horizon-magazine/quantum-computers-will-soon-outperform-classical-machines\n",
    "https://www.cbinsights.com/research/quantum-computing-classical-computing-comparison-infographic/\n",
    "uses bits like classical computers - zeros and ones. but unlike the classical it can also be zero/one at the same time, known as a quantum bit (qubit).\n",
    "----"
   ]
  },
  {
   "cell_type": "markdown",
   "id": "dcf1d174-a3e4-47e7-b52b-7e29109a4ccf",
   "metadata": {},
   "source": [
    "### Deutsch’s algorithm\n",
    "https://qiskit.org/textbook/ch-algorithms/deutsch-jozsa.html\n",
    "\n",
    "\n",
    "\n",
    "\n",
    "----"
   ]
  },
  {
   "cell_type": "markdown",
   "id": "ed34395b-64dc-4d74-a756-6665c6e1bdd1",
   "metadata": {},
   "source": [
    "### qiskit\n",
    "----"
   ]
  },
  {
   "cell_type": "markdown",
   "id": "dc56627d-5552-4369-b77c-8a30df2c9033",
   "metadata": {},
   "source": [
    "#### functions\n",
    "A constant function returns all 0's or all 1's for any input, <br>\n",
    "while a balanced function returns 0's for exactly half of all inputs and 1's for the other half <br>\n",
    "\n",
    "#### constant function example\n",
    "A constant function does not change"
   ]
  },
  {
   "cell_type": "code",
   "execution_count": 38,
   "id": "76f04c35-a1c5-4387-82dd-f0a100554d6a",
   "metadata": {},
   "outputs": [],
   "source": [
    "# example of a constant function\n",
    "def constant_function(x):\n",
    "    return print('constant:', 1)"
   ]
  },
  {
   "cell_type": "code",
   "execution_count": 24,
   "id": "cf534502-d02a-40f1-a21d-e54f4e9d3db7",
   "metadata": {},
   "outputs": [
    {
     "name": "stdout",
     "output_type": "stream",
     "text": [
      "constant: 1\n"
     ]
    }
   ],
   "source": [
    "constant_function(2)"
   ]
  },
  {
   "cell_type": "code",
   "execution_count": 31,
   "id": "8b7ee816-8111-4ca9-8101-5e5022e106f7",
   "metadata": {},
   "outputs": [
    {
     "name": "stdout",
     "output_type": "stream",
     "text": [
      "constant: 1\n"
     ]
    }
   ],
   "source": [
    "constant_function(3)"
   ]
  },
  {
   "cell_type": "markdown",
   "id": "59d3747e-82db-4ae2-bdbe-e44846aa90e7",
   "metadata": {},
   "source": [
    "an example of a constant function. the function always returns 1, no matter what the input. "
   ]
  },
  {
   "cell_type": "markdown",
   "id": "b6173396-da2b-4824-be03-ccb656fdba44",
   "metadata": {},
   "source": [
    "#### balanced function example"
   ]
  },
  {
   "cell_type": "code",
   "execution_count": 39,
   "id": "c9a5a867-62fa-472d-8415-7b134fbca24b",
   "metadata": {},
   "outputs": [],
   "source": [
    "# example of a balanced function\n",
    "def balanced_function(x):\n",
    "    return print('balanced:', ((x + 1) % 2))"
   ]
  },
  {
   "cell_type": "code",
   "execution_count": 32,
   "id": "6dc66b72-b22c-4832-9a77-f0505c3e2631",
   "metadata": {},
   "outputs": [
    {
     "name": "stdout",
     "output_type": "stream",
     "text": [
      "balanced: 1\n"
     ]
    }
   ],
   "source": [
    "balanced_function(2)"
   ]
  },
  {
   "cell_type": "code",
   "execution_count": 33,
   "id": "b8f8a79f-a676-4a82-8044-c4bc88b61266",
   "metadata": {},
   "outputs": [
    {
     "name": "stdout",
     "output_type": "stream",
     "text": [
      "balanced: 0\n"
     ]
    }
   ],
   "source": [
    "balanced_function(3)"
   ]
  },
  {
   "cell_type": "markdown",
   "id": "4be0c885-1426-4f5e-aad8-cd398182d2fb",
   "metadata": {},
   "source": [
    "an example of a balanced function. the function returns 0 or 1 depending on the input."
   ]
  },
  {
   "cell_type": "markdown",
   "id": "caff25cd-b85f-4498-921c-dcb52ac5f6c1",
   "metadata": {},
   "source": [
    "#### Deutsch’s algorithm explained"
   ]
  },
  {
   "cell_type": "code",
   "execution_count": 3,
   "id": "16cfa52c-f372-4523-89bf-5daedd325d78",
   "metadata": {},
   "outputs": [],
   "source": [
    "# pip install qiskit in terminal\n",
    "import qiskit\n",
    "# pip install matplotlib\n",
    "# pip install pylatexenc\n",
    "import matplotlib\n",
    "\n",
    "from qiskit import QuantumCircuit"
   ]
  },
  {
   "cell_type": "code",
   "execution_count": 4,
   "id": "63b7b634-c7d7-45a2-8dbd-f3d6d3163eec",
   "metadata": {},
   "outputs": [
    {
     "data": {
      "image/png": "[encoded data removed]",
      "text/plain": [
       "<Figure size 146.652x204.68 with 1 Axes>"
      ]
     },
     "execution_count": 4,
     "metadata": {},
     "output_type": "execute_result"
    }
   ],
   "source": [
    "# Create the circuit\n",
    "qc = QuantumCircuit(2,1)\n",
    "qc.i(0)\n",
    "qc.x(1)\n",
    "# Draw the circuit with matplotlib\n",
    "qc.draw(output = 'mpl')"
   ]
  },
  {
   "cell_type": "code",
   "execution_count": null,
   "id": "2487438a-b3ef-415d-8e4c-79bfc2aea367",
   "metadata": {},
   "outputs": [],
   "source": []
  }
 ],
 "metadata": {
  "kernelspec": {
   "display_name": "Python 3",
   "language": "python",
   "name": "python3"
  },
  "language_info": {
   "codemirror_mode": {
    "name": "ipython",
    "version": 3
   },
   "file_extension": ".py",
   "mimetype": "text/x-python",
   "name": "python",
   "nbconvert_exporter": "python",
   "pygments_lexer": "ipython3",
   "version": "3.8.8"
  }
 },
 "nbformat": 4,
 "nbformat_minor": 5
}
