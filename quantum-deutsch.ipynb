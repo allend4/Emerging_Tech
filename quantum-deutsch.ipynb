{
 "cells": [
  {
   "cell_type": "markdown",
   "id": "7ed93918-82db-404c-9ed4-a979c97dec99",
   "metadata": {},
   "source": [
    "# Quantom-Deutsch"
   ]
  },
  {
   "cell_type": "markdown",
   "id": "80232549-c955-43a1-9ddb-f05941f32aae",
   "metadata": {},
   "source": [
    "### Quantum Computing\n",
    "[A look at Quantum Computing](https://en.wikipedia.org/wiki/Quantum_computing) \n",
    "\n",
    "----"
   ]
  },
  {
   "cell_type": "markdown",
   "id": "40be323b-2e53-449d-8ff4-d52cf0ea3a48",
   "metadata": {},
   "source": [
    "### What is Quantum Computing?\n",
    "[IBM's definition](https://www.ibm.com/uk-en/topics/quantum-computing) <br>\n",
    "[Microsoft's definition](https://azure.microsoft.com/en-us/overview/what-is-quantum-computing) <br>\n",
    "[New Scientists definition](https://www.newscientist.com/question/what-is-a-quantum-computer) <br>\n",
    "Quantum Computers are machines which use the quantum physics properties. <br>\n",
    "Uses quantum mechananics to solves problems too complex for classical computers.<br>\n",
    "Quantum computers use qubits, which enables it to be more powerful and faster than classical computings.\n",
    "----"
   ]
  },
  {
   "cell_type": "markdown",
   "id": "f3e062e2-ef8b-4b5c-ad85-19b9047d9267",
   "metadata": {},
   "source": [
    "### Classical Computing\n",
    "[A better look at classical computing](https://whatis.techtarget.com/definition/classical-computing) <br>\n",
    "normal computers use bits - zero's and ones, otherwise known as binary computing. It's defined by boolean algebra. Classical computing is alot simpler than Quantum computing, calculating with transisters that represent \"0\" and \"0\" depending if the transister is on or off. Therefore it has a low error rate and can operate at room temperature. Currently everyday processing is best handled by classical computers and can be handled by todays processors.\n",
    "----"
   ]
  },
  {
   "cell_type": "markdown",
   "id": "61a2936d-c337-41da-8fc9-334a7e64bc8e",
   "metadata": {
    "tags": []
   },
   "source": [
    "### Quantum Computing Vs Classical Computing\n",
    "[Quantum computing out performs classical computing](https://ec.europa.eu/research-and-innovation/en/horizon-magazine/quantum-computers-will-soon-outperform-classical-machines) <br>\n",
    "[Quantum Vs Classical comparison](https://www.cbinsights.com/research/quantum-computing-classical-computing-comparison-infographic/) Used as reference for pro's and con's.<br>\n",
    "uses bits like classical computers - zeros and ones. but unlike the classical it can also be zero/one at the same time, known as a quantum bit (qubit). <br>\n"
   ]
  },
  {
   "cell_type": "markdown",
   "id": "bae394e7-bdb7-42fc-8675-9c5b1a549fc0",
   "metadata": {},
   "source": [
    "|  <b>Classical Computing</b> | <b>Quantum Computing</b>  |\n",
    "|---|---|\n",
    "| Calculates with Transistors. Represented by \"0's\" or \"1's\"  | Calculates with qubits. Represented by \"0's\" and \"1's\" ath the same time  |\n",
    "| Power increases in a 1:1 relationship with the number of transistors | Power increases exponentially in proportion to the number of qubits |\n",
    "| LOW error rate | HIGH error rate |\n",
    "| can operate at room temp | Needs to be kept ultracold |\n",
    "| Most everyday processing is best handled by classical computers | Well suited for tasks like optimization problems, data analysis, and simulations |\n"
   ]
  },
  {
   "cell_type": "markdown",
   "id": "5fe6a299-a53f-41a4-97cb-a9466e5d644b",
   "metadata": {},
   "source": [
    "Quantum computing could one day drastically outperform classical computing. Although currenly there are pros and cons as seen above, to whether a quantum computer is needed. For everyday use classical computer are preferred as they are cheaper and easy to maintain. But as technology progresses quantum computing could take over one day, once their cons are reduced."
   ]
  },
  {
   "cell_type": "markdown",
   "id": "dc56627d-5552-4369-b77c-8a30df2c9033",
   "metadata": {},
   "source": [
    "#### Functions\n",
    "A constant function returns all 0's or all 1's for any input, <br>\n",
    "while a balanced function returns 0's for exactly half of all inputs and 1's for the other half <br>\n",
    "\n",
    "#### Constant function example\n",
    "A constant function does not change"
   ]
  },
  {
   "cell_type": "code",
   "execution_count": 3,
   "id": "76f04c35-a1c5-4387-82dd-f0a100554d6a",
   "metadata": {},
   "outputs": [],
   "source": [
    "# example of a constant function\n",
    "def constant_function(x):\n",
    "    return print('constant:', 1)"
   ]
  },
  {
   "cell_type": "code",
   "execution_count": 24,
   "id": "cf534502-d02a-40f1-a21d-e54f4e9d3db7",
   "metadata": {},
   "outputs": [
    {
     "name": "stdout",
     "output_type": "stream",
     "text": [
      "constant: 1\n"
     ]
    }
   ],
   "source": [
    "constant_function(2)"
   ]
  },
  {
   "cell_type": "code",
   "execution_count": 31,
   "id": "8b7ee816-8111-4ca9-8101-5e5022e106f7",
   "metadata": {},
   "outputs": [
    {
     "name": "stdout",
     "output_type": "stream",
     "text": [
      "constant: 1\n"
     ]
    }
   ],
   "source": [
    "constant_function(3)"
   ]
  },
  {
   "cell_type": "markdown",
   "id": "59d3747e-82db-4ae2-bdbe-e44846aa90e7",
   "metadata": {},
   "source": [
    "An example of a constant function. The function always returns 1, no matter what the input. "
   ]
  },
  {
   "cell_type": "markdown",
   "id": "b6173396-da2b-4824-be03-ccb656fdba44",
   "metadata": {},
   "source": [
    "#### Balanced function example"
   ]
  },
  {
   "cell_type": "code",
   "execution_count": 39,
   "id": "c9a5a867-62fa-472d-8415-7b134fbca24b",
   "metadata": {},
   "outputs": [],
   "source": [
    "# example of a balanced function\n",
    "def balanced_function(x):\n",
    "    return print('balanced:', ((x + 1) % 2))"
   ]
  },
  {
   "cell_type": "code",
   "execution_count": 32,
   "id": "6dc66b72-b22c-4832-9a77-f0505c3e2631",
   "metadata": {},
   "outputs": [
    {
     "name": "stdout",
     "output_type": "stream",
     "text": [
      "balanced: 1\n"
     ]
    }
   ],
   "source": [
    "balanced_function(2)"
   ]
  },
  {
   "cell_type": "code",
   "execution_count": 33,
   "id": "b8f8a79f-a676-4a82-8044-c4bc88b61266",
   "metadata": {},
   "outputs": [
    {
     "name": "stdout",
     "output_type": "stream",
     "text": [
      "balanced: 0\n"
     ]
    }
   ],
   "source": [
    "balanced_function(3)"
   ]
  },
  {
   "cell_type": "markdown",
   "id": "4be0c885-1426-4f5e-aad8-cd398182d2fb",
   "metadata": {},
   "source": [
    "An example of a balanced function. The function returns 0 or 1 depending on the input."
   ]
  },
  {
   "cell_type": "markdown",
   "id": "caff25cd-b85f-4498-921c-dcb52ac5f6c1",
   "metadata": {},
   "source": [
    "#### Deutsch’s algorithm explained\n",
    "[Learn Quantum Computation using Qiskit](https://qiskit.org/textbook/ch-algorithms/deutsch-jozsa.html)"
   ]
  },
  {
   "cell_type": "markdown",
   "id": "4f1785f3-c571-4161-a9e7-182f23b5f4e5",
   "metadata": {},
   "source": [
    "These python packages need to be imported to use them. If its not reconised its most likely that these packages need to be installed in your terminal before you can use them. <br>\n",
    "- <b>qiskit</b>\n",
    "    - Qiskit is made up of elements that work together to enable quantum computing\n",
    "- <b>matplotlib</b>\n",
    "    - a comprehensive library for creating static, animated, and interactive visualizations\n",
    "- <b>pylatexenc</b>\n",
    "    - Simple LaTeX parser"
   ]
  },
  {
   "cell_type": "code",
   "execution_count": 5,
   "id": "16cfa52c-f372-4523-89bf-5daedd325d78",
   "metadata": {},
   "outputs": [],
   "source": [
    "# pip install qiskit in terminal\n",
    "import qiskit\n",
    "# pip install matplotlib in terminal\n",
    "# pip install pylatexenc in terminal\n",
    "import matplotlib\n",
    "\n",
    "# import the elements needed from the package\n",
    "from qiskit import QuantumCircuit\n",
    "from qiskit import Aer\n",
    "from qiskit import execute\n",
    "from qiskit.visualization import plot_histogram"
   ]
  },
  {
   "cell_type": "code",
   "execution_count": 7,
   "id": "bb037081-2856-447b-ac0c-6f68d5dd823a",
   "metadata": {},
   "outputs": [],
   "source": [
    "# Create the circuit\n",
    "qc = QuantumCircuit(2,1)"
   ]
  },
  {
   "cell_type": "code",
   "execution_count": 8,
   "id": "63b7b634-c7d7-45a2-8dbd-f3d6d3163eec",
   "metadata": {},
   "outputs": [
    {
     "data": {
      "image/png": "[encoded data removed]",
      "text/plain": [
       "<Figure size 146.652x204.68 with 1 Axes>"
      ]
     },
     "execution_count": 8,
     "metadata": {},
     "output_type": "execute_result"
    }
   ],
   "source": [
    "qc.i(0)\n",
    "qc.x(1)\n",
    "# Draw the circuit with matplotlib\n",
    "qc.draw(output = 'mpl')"
   ]
  },
  {
   "cell_type": "code",
   "execution_count": 9,
   "id": "2487438a-b3ef-415d-8e4c-79bfc2aea367",
   "metadata": {},
   "outputs": [
    {
     "data": {
      "image/png": "[encoded data removed]",
      "text/plain": [
       "<Figure size 206.852x204.68 with 1 Axes>"
      ]
     },
     "execution_count": 9,
     "metadata": {},
     "output_type": "execute_result"
    }
   ],
   "source": [
    "# Apply a Hadamard gate\n",
    "qc.h(0)\n",
    "qc.h(1)\n",
    "qc.draw(output = 'mpl')"
   ]
  },
  {
   "cell_type": "markdown",
   "id": "b920e989-6e40-4138-bb82-899ede57d553",
   "metadata": {},
   "source": [
    "<b>Hadamard gate</b> brings a qubit into a superposition state.<br>\n",
    "A <i>superposition</i> is a system that has two different states that can define it and it's possible for it to exist in both. <br>\n",
    "Meaning it takes the classical computing binary representation \"0\" and \"1\" and puts a quantum twist on it. Enabling both \"0\" and \"1\" simultaneously, a combination of both!"
   ]
  },
  {
   "cell_type": "code",
   "execution_count": 11,
   "id": "070b8152-23a8-417b-b93a-1690065217ec",
   "metadata": {},
   "outputs": [
    {
     "data": {
      "image/png": "[encoded data removed]",
      "text/plain": [
       "<Figure size 267.052x204.68 with 1 Axes>"
      ]
     },
     "execution_count": 11,
     "metadata": {},
     "output_type": "execute_result"
    }
   ],
   "source": [
    "# CNOT gate applied\n",
    "qc.cx(0,1)\n",
    "qc.draw(output = 'mpl')"
   ]
  },
  {
   "cell_type": "markdown",
   "id": "2bb86b4e-a1bb-4aac-941f-566210771ae7",
   "metadata": {},
   "source": [
    "<b>CNOT gate</b> also know as the controlled NOT gate. Both qubits are measured."
   ]
  },
  {
   "cell_type": "code",
   "execution_count": 12,
   "id": "081ac191-6a99-4b42-83b7-457f1d191a1c",
   "metadata": {},
   "outputs": [
    {
     "data": {
      "image/png": "[encoded data removed]",
      "text/plain": [
       "<Figure size 327.252x204.68 with 1 Axes>"
      ]
     },
     "execution_count": 12,
     "metadata": {},
     "output_type": "execute_result"
    }
   ],
   "source": [
    "# Apply a Hadamard gate\n",
    "qc.h(0)\n",
    "qc.h(1)\n",
    "qc.draw(output = 'mpl')"
   ]
  },
  {
   "cell_type": "code",
   "execution_count": 13,
   "id": "c3345f1c-5b3c-48b6-bc1b-56abccd68561",
   "metadata": {
    "tags": []
   },
   "outputs": [
    {
     "data": {
      "image/png": "[encoded data removed]",
      "text/plain": [
       "<Figure size 387.452x204.68 with 1 Axes>"
      ]
     },
     "execution_count": 13,
     "metadata": {},
     "output_type": "execute_result"
    }
   ],
   "source": [
    "# Take the measurement of the first qubit of the circuit\n",
    "qc.measure(0,0)\n",
    "qc.draw(output = 'mpl')"
   ]
  },
  {
   "cell_type": "code",
   "execution_count": 14,
   "id": "cda8ca30-8b61-4c46-bd1a-d8a9170f790f",
   "metadata": {},
   "outputs": [
    {
     "name": "stdout",
     "output_type": "stream",
     "text": [
      "{'1': 1024}\n"
     ]
    },
    {
     "data": {
      "image/png": "[encoded data removed]",
      "text/plain": [
       "<Figure size 504x360 with 1 Axes>"
      ]
     },
     "execution_count": 14,
     "metadata": {},
     "output_type": "execute_result"
    }
   ],
   "source": [
    "# Run the circuit on a quantum simulator\n",
    "backend = Aer.get_backend('qasm_simulator')\n",
    "result = execute(qc, backend = backend, shots = 1024).result()\n",
    "counts = result.get_counts(qc)\n",
    "print(counts)\n",
    "plot_histogram(counts)"
   ]
  },
  {
   "cell_type": "markdown",
   "id": "2340702a-440f-407e-868b-29f1fb68e1ca",
   "metadata": {},
   "source": [
    "<b>qasm_simulator</b> performs the simulation locally on your computer and consumes your CPU.<br>\n",
    "Since the result is 1, the function comes back as balanced."
   ]
  },
  {
   "cell_type": "markdown",
   "id": "7b8d321a-261c-4784-84eb-54d1d5e18f32",
   "metadata": {},
   "source": [
    "----"
   ]
  },
  {
   "cell_type": "markdown",
   "id": "73a6e4c7-309a-49ba-8e9b-df339e2e66e0",
   "metadata": {},
   "source": [
    "### Extra\n",
    "\n",
    "You can now access your own Quantum computer through [IBM Quantum](https://quantum-computing.ibm.com/) and their cloud platform. Right at your fingertips. Learn, develope and run programs.<br>\n",
    "Setting up an account is <b>FREE</b> and it offers qiskit tutorials.<br>\n",
    "Highly recommended to give it a go. I didn't attach to jupyter notebooks as I didnt want to be giving access to my personal account.\n",
    "----"
   ]
  },
  {
   "cell_type": "markdown",
   "id": "5960ae3a-b823-4486-a890-454933df443e",
   "metadata": {},
   "source": [
    "### References\n",
    "<i>Recommended reads. Full of interesting information:</i>"
   ]
  },
  {
   "cell_type": "markdown",
   "id": "df809b64-b96c-4df2-ac6d-650273e638cf",
   "metadata": {},
   "source": [
    "<b>A look at Quantum Computing</b><br> \n",
    "En.wikipedia.org. 2021. Quantum computing - Wikipedia. [online] Available at: <https://en.wikipedia.org/wiki/Quantum_computing>.\n",
    "<br><br> \n",
    "<b>IBM's definition</b><br> \n",
    "Ibm.com. 2021. What is Quantum Computing? | IBM. [online] Available at: <https://www.ibm.com/uk-en/topics/quantum-computing>.\n",
    "<br><br>\n",
    "<b>Microsoft's definition</b><br> \n",
    "Azure.microsoft.com. 2021. What is Quantum Computing | Microsoft Azure. [online] Available at: <https://azure.microsoft.com/en-us/overview/what-is-quantum-computing/>.\n",
    "<br><br>\n",
    "<b>New Scientists definition</b><br> \n",
    "New Scientist. 2021. What is a quantum computer?. [online] Available at: <https://www.newscientist.com/question/what-is-a-quantum-computer/>.\n",
    "<br><br>\n",
    "<b>A better look at classical computing</b><br> \n",
    "WhatIs.com. 2021. What is classical computing? - Definition from WhatIs.com. [online] Available at: <https://whatis.techtarget.com/definition/classical-computing>.\n",
    "<br><br>\n",
    "<b>Quantum computing out performs classical computing</b><br> \n",
    "Horizon Magazine. 2021. ‘Quantum computers will soon outperform classical machines’. [online] Available at: <https://ec.europa.eu/research-and-innovation/en/horizon-magazine/quantum-computers-will-soon-outperform-classical-machines>.\n",
    "<br><br>\n",
    "<b>Quantum Vs Classical comparison</b><br> \n",
    "CB Insights Research. 2021. Quantum Computing Vs. Classical Computing In One Graphic - CB Insights Research. [online] Available at: <https://www.cbinsights.com/research/quantum-computing-classical-computing-comparison-infographic/>.\n",
    "<br><br>\n",
    "<b>Learn Quantum Computation using Qiskit</b><br> \n",
    "Qiskit.org. 2021. Deutsch-Jozsa Algorithm. [online] Available at: <https://qiskit.org/textbook/ch-algorithms/deutsch-jozsa.html>.\n",
    "<br><br>\n",
    "<b>IBM Quantum</b><br> \n",
    "IBM Quantum. 2021. IBM Quantum. [online] Available at: <https://quantum-computing.ibm.com/>.\n",
    "<br><br>"
   ]
  },
  {
   "cell_type": "markdown",
   "id": "f8e4b788-cb29-45fd-9661-1a75f4bacd25",
   "metadata": {},
   "source": [
    "----\n",
    "\n",
    "# The END\n",
    "\n",
    "----"
   ]
  }
 ],
 "metadata": {
  "kernelspec": {
   "display_name": "Python 3 (ipykernel)",
   "language": "python",
   "name": "python3"
  },
  "language_info": {
   "codemirror_mode": {
    "name": "ipython",
    "version": 3
   },
   "file_extension": ".py",
   "mimetype": "text/x-python",
   "name": "python",
   "nbconvert_exporter": "python",
   "pygments_lexer": "ipython3",
   "version": "3.9.7"
  }
 },
 "nbformat": 4,
 "nbformat_minor": 5
}
