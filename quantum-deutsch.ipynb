{
 "cells": [
  {
   "cell_type": "markdown",
   "id": "77627b12-3c79-4753-88f7-fabfdea225cf",
   "metadata": {},
   "source": [
    "[Learn Quantum Computation using Qiskit - Deutsch-Jozsa Algorithm](https://qiskit.org/textbook/ch-algorithms/deutsch-jozsa.html)"
   ]
  },
  {
   "cell_type": "code",
   "execution_count": null,
   "id": "87d872e9-1102-4f0d-bcea-e445f60c47c4",
   "metadata": {},
   "outputs": [],
   "source": [
    "Deutsch-jozsa algorithm,” 2021. [Online]. Available: https://qiskit.org/textbook/\n",
    "ch-algorithms/deutsch-jozsa.html"
   ]
  }
 ],
 "metadata": {
  "kernelspec": {
   "display_name": "Python 3",
   "language": "python",
   "name": "python3"
  },
  "language_info": {
   "codemirror_mode": {
    "name": "ipython",
    "version": 3
   },
   "file_extension": ".py",
   "mimetype": "text/x-python",
   "name": "python",
   "nbconvert_exporter": "python",
   "pygments_lexer": "ipython3",
   "version": "3.8.8"
  }
 },
 "nbformat": 4,
 "nbformat_minor": 5
}
