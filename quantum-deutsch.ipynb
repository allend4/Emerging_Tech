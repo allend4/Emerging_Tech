{
 "cells": [
  {
   "cell_type": "markdown",
   "id": "7ed93918-82db-404c-9ed4-a979c97dec99",
   "metadata": {},
   "source": [
    "## quantom-deutsch"
   ]
  },
  {
   "cell_type": "markdown",
   "id": "77627b12-3c79-4753-88f7-fabfdea225cf",
   "metadata": {},
   "source": [
    "[Learn Quantum Computation using Qiskit - Deutsch-Jozsa Algorithm](https://qiskit.org/textbook/ch-algorithms/deutsch-jozsa.html)"
   ]
  },
  {
   "cell_type": "raw",
   "id": "057c180f-a863-4b32-8d58-1c00c064b4e3",
   "metadata": {},
   "source": [
    "Deutsch-jozsa algorithm,” 2021. [Online]. Available: https://qiskit.org/textbook/\n",
    "ch-algorithms/deutsch-jozsa.html"
   ]
  },
  {
   "cell_type": "markdown",
   "id": "80232549-c955-43a1-9ddb-f05941f32aae",
   "metadata": {},
   "source": [
    "### Quantum Computing\n",
    "----"
   ]
  },
  {
   "cell_type": "markdown",
   "id": "40be323b-2e53-449d-8ff4-d52cf0ea3a48",
   "metadata": {},
   "source": [
    "### What is Quantum Computing\n",
    "----"
   ]
  },
  {
   "cell_type": "markdown",
   "id": "f3e062e2-ef8b-4b5c-ad85-19b9047d9267",
   "metadata": {},
   "source": [
    "### Classical Computing\n",
    "----"
   ]
  },
  {
   "cell_type": "markdown",
   "id": "61a2936d-c337-41da-8fc9-334a7e64bc8e",
   "metadata": {},
   "source": [
    "### Quantum Computing Vs Classical Computing\n",
    "----"
   ]
  },
  {
   "cell_type": "markdown",
   "id": "dcf1d174-a3e4-47e7-b52b-7e29109a4ccf",
   "metadata": {},
   "source": [
    "### Deutsch’s algorithm\n",
    "----"
   ]
  },
  {
   "cell_type": "markdown",
   "id": "ed34395b-64dc-4d74-a756-6665c6e1bdd1",
   "metadata": {},
   "source": [
    "### qiskit\n",
    "----"
   ]
  },
  {
   "cell_type": "code",
   "execution_count": null,
   "id": "24ce2ef5-9d6d-47fe-8245-37022e99f752",
   "metadata": {},
   "outputs": [],
   "source": []
  }
 ],
 "metadata": {
  "kernelspec": {
   "display_name": "Python 3",
   "language": "python",
   "name": "python3"
  },
  "language_info": {
   "codemirror_mode": {
    "name": "ipython",
    "version": 3
   },
   "file_extension": ".py",
   "mimetype": "text/x-python",
   "name": "python",
   "nbconvert_exporter": "python",
   "pygments_lexer": "ipython3",
   "version": "3.8.8"
  }
 },
 "nbformat": 4,
 "nbformat_minor": 5
}
