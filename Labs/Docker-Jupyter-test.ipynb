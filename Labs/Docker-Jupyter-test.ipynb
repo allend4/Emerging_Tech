{
 "cells": [
  {
   "cell_type": "markdown",
   "id": "b71d551c-29a9-4cfa-8499-6037f1f0ddd4",
   "metadata": {},
   "source": [
    "# Quantum Computing Tests"
   ]
  },
  {
   "cell_type": "code",
   "execution_count": 2,
   "id": "4deddeac-c919-409d-ad45-ed9701082b3f",
   "metadata": {},
   "outputs": [],
   "source": [
    "import zeep"
   ]
  },
  {
   "cell_type": "code",
   "execution_count": 3,
   "id": "029827de-e157-4ad7-872d-14b1107ae97c",
   "metadata": {},
   "outputs": [],
   "source": [
    "import numpy"
   ]
  },
  {
   "cell_type": "code",
   "execution_count": 1,
   "id": "7833fbff-d721-49bd-99c9-83f6fa369a22",
   "metadata": {},
   "outputs": [],
   "source": [
    "import qiskit"
   ]
  },
  {
   "cell_type": "code",
   "execution_count": 3,
   "id": "e6794b96-1318-4d99-956d-b44c6a8af95a",
   "metadata": {},
   "outputs": [
    {
     "data": {
      "text/plain": [
       "<module 'qiskit.pulse' from '/opt/conda/lib/python3.9/site-packages/qiskit/pulse/__init__.py'>"
      ]
     },
     "execution_count": 3,
     "metadata": {},
     "output_type": "execute_result"
    }
   ],
   "source": [
    "qiskit.pulse"
   ]
  },
  {
   "cell_type": "code",
   "execution_count": null,
   "id": "b271786b-62ed-4a04-a3fd-b592257139cb",
   "metadata": {},
   "outputs": [],
   "source": []
  }
 ],
 "metadata": {
  "kernelspec": {
   "display_name": "Python 3 (ipykernel)",
   "language": "python",
   "name": "python3"
  },
  "language_info": {
   "codemirror_mode": {
    "name": "ipython",
    "version": 3
   },
   "file_extension": ".py",
   "mimetype": "text/x-python",
   "name": "python",
   "nbconvert_exporter": "python",
   "pygments_lexer": "ipython3",
   "version": "3.9.7"
  }
 },
 "nbformat": 4,
 "nbformat_minor": 5
}
