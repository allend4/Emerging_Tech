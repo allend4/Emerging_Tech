{
 "cells": [
  {
   "cell_type": "raw",
   "id": "6e8f6368-52e2-4048-9542-01e63050ed9d",
   "metadata": {},
   "source": []
  },
  {
   "cell_type": "markdown",
   "id": "2ea5f1af-5034-43b3-a666-8e3dc6564a4f",
   "metadata": {},
   "source": []
  },
  {
   "cell_type": "code",
   "execution_count": null,
   "id": "cde8338b-8941-483f-83b8-25a92d26def2",
   "metadata": {},
   "outputs": [],
   "source": []
  }
 ],
 "metadata": {
  "kernelspec": {
   "display_name": "Python 3",
   "language": "python",
   "name": "python3"
  },
  "language_info": {
   "codemirror_mode": {
    "name": "ipython",
    "version": 3
   },
   "file_extension": ".py",
   "mimetype": "text/x-python",
   "name": "python",
   "nbconvert_exporter": "python",
   "pygments_lexer": "ipython3",
   "version": "3.8.8"
  }
 },
 "nbformat": 4,
 "nbformat_minor": 5
}
