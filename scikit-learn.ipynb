{
 "cells": [
  {
   "cell_type": "markdown",
   "id": "457f1fba-9326-407c-b6dc-95c615345f31",
   "metadata": {},
   "source": [
    "[scikit-learn Machine Learning in Python](https://scikit-learn.org/stable/index.html)"
   ]
  },
  {
   "cell_type": "code",
   "execution_count": null,
   "id": "1d134666-89ba-4633-8c3d-d12f7f9bcc5e",
   "metadata": {},
   "outputs": [],
   "source": [
    "scikit-learn: machine learning in python — scikit-learn 0.24.2 documentation,”\n",
    "2021. [Online]. Available: https://scikit-learn.org/stable/index.html"
   ]
  }
 ],
 "metadata": {
  "kernelspec": {
   "display_name": "Python 3",
   "language": "python",
   "name": "python3"
  },
  "language_info": {
   "codemirror_mode": {
    "name": "ipython",
    "version": 3
   },
   "file_extension": ".py",
   "mimetype": "text/x-python",
   "name": "python",
   "nbconvert_exporter": "python",
   "pygments_lexer": "ipython3",
   "version": "3.8.8"
  }
 },
 "nbformat": 4,
 "nbformat_minor": 5
}
