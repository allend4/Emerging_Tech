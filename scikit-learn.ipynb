{
 "cells": [
  {
   "cell_type": "markdown",
   "id": "9de5824d-0d90-4496-a780-a633379a1835",
   "metadata": {},
   "source": [
    "## Scikit-learn"
   ]
  },
  {
   "cell_type": "markdown",
   "id": "457f1fba-9326-407c-b6dc-95c615345f31",
   "metadata": {},
   "source": [
    "[scikit-learn Machine Learning in Python](https://scikit-learn.org/stable/index.html)\n",
    "Scikit-learn (Sklearn) is a python library used for machine learning.\n",
    "it is built using NumPy, SciPy, Matplotlib\n",
    "it provides a set of tools for machine learning and statistical modeling including classification, regression, clustering and dimensionality reduction\n",
    "\n",
    "* classification \n",
    "    - Identifying which category an object belongs to.\n",
    "* regression\n",
    "    - Predicting a continuous-valued attribute associated with an object.\n",
    "* clustering\n",
    "    - Automatic grouping of similar objects into sets.\n",
    "* dimensionality reduction\n",
    "    - Reducing the number of random variables to consider."
   ]
  },
  {
   "cell_type": "markdown",
   "id": "744ee81a-7a6c-4a2b-8b7e-f14a46d37a89",
   "metadata": {},
   "source": [
    "### what is scikit-learn\n",
    "----"
   ]
  },
  {
   "cell_type": "markdown",
   "id": "3ae52b73-ff24-4d75-aab9-353987bf05d4",
   "metadata": {},
   "source": [
    "### Demonstarte 3x scikit-learn algorithms\n",
    "\n",
    "install latest version of scikit-learn\n",
    "pip install -U scikit-learn\n",
    "----"
   ]
  },
  {
   "cell_type": "markdown",
   "id": "185188d4-5cbd-4f92-9985-4af5ae7303ab",
   "metadata": {},
   "source": [
    "### Classification"
   ]
  },
  {
   "cell_type": "code",
   "execution_count": 9,
   "id": "e20a21e5-2c0f-4860-a3c1-15628de763d1",
   "metadata": {},
   "outputs": [],
   "source": [
    "# Author: Gael Varoquaux <gael dot varoquaux at normalesup dot org>\n",
    "# License: BSD 3 clause"
   ]
  },
  {
   "cell_type": "markdown",
   "id": "701c93a4-1800-4ae5-807a-be26dcdc185c",
   "metadata": {},
   "source": [
    "[Recognizing hand-written digits](https://scikit-learn.org/stable/auto_examples/classification/plot_digits_classification.html#sphx-glr-auto-examples-classification-plot-digits-classification-py) is an example of classification. Classification is a type of supervised learning."
   ]
  },
  {
   "cell_type": "code",
   "execution_count": 2,
   "id": "ad753b82-68df-4cf5-b958-251b9f13302c",
   "metadata": {},
   "outputs": [],
   "source": [
    "# Standard scientific Python imports\n",
    "import matplotlib.pyplot as plt\n",
    "\n",
    "# Import datasets, classifiers and performance metrics\n",
    "from sklearn import datasets, svm, metrics\n",
    "from sklearn.model_selection import train_test_split"
   ]
  },
  {
   "cell_type": "code",
   "execution_count": 4,
   "id": "f7782cf8-5038-4ee3-a9a9-32340b5109bf",
   "metadata": {},
   "outputs": [
    {
     "data": {
      "image/png": "[encoded data removed]",
      "text/plain": [
       "<Figure size 720x216 with 4 Axes>"
      ]
     },
     "metadata": {
      "needs_background": "light"
     },
     "output_type": "display_data"
    }
   ],
   "source": [
    "digits = datasets.load_digits()\n",
    "\n",
    "_, axes = plt.subplots(nrows=1, ncols=4, figsize=(10, 3))\n",
    "for ax, image, label in zip(axes, digits.images, digits.target):\n",
    "    ax.set_axis_off()\n",
    "    ax.imshow(image, cmap=plt.cm.gray_r, interpolation=\"nearest\")\n",
    "    ax.set_title(\"Training: %i\" % label)"
   ]
  },
  {
   "cell_type": "code",
   "execution_count": 5,
   "id": "4677410a-499b-4988-b878-ced2a3f90951",
   "metadata": {},
   "outputs": [],
   "source": [
    "# flatten the images\n",
    "n_samples = len(digits.images)\n",
    "data = digits.images.reshape((n_samples, -1))\n",
    "\n",
    "# Create a classifier: a support vector classifier\n",
    "clf = svm.SVC(gamma=0.001)\n",
    "\n",
    "# Split data into 50% train and 50% test subsets\n",
    "X_train, X_test, y_train, y_test = train_test_split(\n",
    "    data, digits.target, test_size=0.5, shuffle=False\n",
    ")\n",
    "\n",
    "# Learn the digits on the train subset\n",
    "clf.fit(X_train, y_train)\n",
    "\n",
    "# Predict the value of the digit on the test subset\n",
    "predicted = clf.predict(X_test)"
   ]
  },
  {
   "cell_type": "code",
   "execution_count": 6,
   "id": "b0306722-f51f-4ee3-8b29-29129086012b",
   "metadata": {},
   "outputs": [
    {
     "data": {
      "image/png": "[encoded data removed]",
      "text/plain": [
       "<Figure size 720x216 with 4 Axes>"
      ]
     },
     "metadata": {
      "needs_background": "light"
     },
     "output_type": "display_data"
    }
   ],
   "source": [
    "_, axes = plt.subplots(nrows=1, ncols=4, figsize=(10, 3))\n",
    "for ax, image, prediction in zip(axes, X_test, predicted):\n",
    "    ax.set_axis_off()\n",
    "    image = image.reshape(8, 8)\n",
    "    ax.imshow(image, cmap=plt.cm.gray_r, interpolation=\"nearest\")\n",
    "    ax.set_title(f\"Prediction: {prediction}\")"
   ]
  },
  {
   "cell_type": "code",
   "execution_count": 7,
   "id": "d288e277-faa8-4c5f-a562-7800434fe6c7",
   "metadata": {},
   "outputs": [
    {
     "name": "stdout",
     "output_type": "stream",
     "text": [
      "Classification report for classifier SVC(gamma=0.001):\n",
      "              precision    recall  f1-score   support\n",
      "\n",
      "           0       1.00      0.99      0.99        88\n",
      "           1       0.99      0.97      0.98        91\n",
      "           2       0.99      0.99      0.99        86\n",
      "           3       0.98      0.87      0.92        91\n",
      "           4       0.99      0.96      0.97        92\n",
      "           5       0.95      0.97      0.96        91\n",
      "           6       0.99      0.99      0.99        91\n",
      "           7       0.96      0.99      0.97        89\n",
      "           8       0.94      1.00      0.97        88\n",
      "           9       0.93      0.98      0.95        92\n",
      "\n",
      "    accuracy                           0.97       899\n",
      "   macro avg       0.97      0.97      0.97       899\n",
      "weighted avg       0.97      0.97      0.97       899\n",
      "\n",
      "\n"
     ]
    }
   ],
   "source": [
    "print(\n",
    "    f\"Classification report for classifier {clf}:\\n\"\n",
    "    f\"{metrics.classification_report(y_test, predicted)}\\n\"\n",
    ")"
   ]
  },
  {
   "cell_type": "code",
   "execution_count": 8,
   "id": "c8196aa3-7710-4c57-9856-4d6dadcaf933",
   "metadata": {},
   "outputs": [
    {
     "name": "stdout",
     "output_type": "stream",
     "text": [
      "Confusion matrix:\n",
      "[[87  0  0  0  1  0  0  0  0  0]\n",
      " [ 0 88  1  0  0  0  0  0  1  1]\n",
      " [ 0  0 85  1  0  0  0  0  0  0]\n",
      " [ 0  0  0 79  0  3  0  4  5  0]\n",
      " [ 0  0  0  0 88  0  0  0  0  4]\n",
      " [ 0  0  0  0  0 88  1  0  0  2]\n",
      " [ 0  1  0  0  0  0 90  0  0  0]\n",
      " [ 0  0  0  0  0  1  0 88  0  0]\n",
      " [ 0  0  0  0  0  0  0  0 88  0]\n",
      " [ 0  0  0  1  0  1  0  0  0 90]]\n"
     ]
    },
    {
     "data": {
      "image/png": "[encoded data removed]",
      "text/plain": [
       "<Figure size 432x288 with 2 Axes>"
      ]
     },
     "metadata": {
      "needs_background": "light"
     },
     "output_type": "display_data"
    }
   ],
   "source": [
    "disp = metrics.ConfusionMatrixDisplay.from_predictions(y_test, predicted)\n",
    "disp.figure_.suptitle(\"Confusion Matrix\")\n",
    "print(f\"Confusion matrix:\\n{disp.confusion_matrix}\")\n",
    "\n",
    "plt.show()"
   ]
  },
  {
   "cell_type": "code",
   "execution_count": null,
   "id": "db585c5d-f792-4aa6-bc9b-26b095c9bee5",
   "metadata": {},
   "outputs": [],
   "source": []
  },
  {
   "cell_type": "markdown",
   "id": "3f6d59cf-652c-4362-85e7-952cca8bdf92",
   "metadata": {},
   "source": [
    "----"
   ]
  },
  {
   "cell_type": "markdown",
   "id": "155430a4-ee58-4cb0-8e76-c4a55a963da6",
   "metadata": {},
   "source": [
    "### Enhancements - plots + visualization\n",
    "----"
   ]
  },
  {
   "cell_type": "markdown",
   "id": "774d606d-b16a-47b7-b9c1-4fc6dd0114d6",
   "metadata": {},
   "source": [
    "### References\n",
    "\n",
    "<b>scikit-learn Machine Learning in Python</b><br> \n",
    "Scikit-learn.org. 2021. scikit-learn: machine learning in Python — scikit-learn 1.0.2 documentation. [online] Available at: <https://scikit-learn.org/stable/index.html>.\n",
    "<br><br>\n",
    "\n",
    "----"
   ]
  },
  {
   "cell_type": "code",
   "execution_count": null,
   "id": "b0746ca5-b1e4-4620-8e4a-af9764360262",
   "metadata": {},
   "outputs": [],
   "source": []
  }
 ],
 "metadata": {
  "kernelspec": {
   "display_name": "Python 3",
   "language": "python",
   "name": "python3"
  },
  "language_info": {
   "codemirror_mode": {
    "name": "ipython",
    "version": 3
   },
   "file_extension": ".py",
   "mimetype": "text/x-python",
   "name": "python",
   "nbconvert_exporter": "python",
   "pygments_lexer": "ipython3",
   "version": "3.8.8"
  }
 },
 "nbformat": 4,
 "nbformat_minor": 5
}
