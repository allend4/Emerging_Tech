{
 "cells": [
  {
   "cell_type": "markdown",
   "id": "9de5824d-0d90-4496-a780-a633379a1835",
   "metadata": {},
   "source": [
    "## Scikit-learn"
   ]
  },
  {
   "cell_type": "markdown",
   "id": "457f1fba-9326-407c-b6dc-95c615345f31",
   "metadata": {},
   "source": [
    "[scikit-learn Machine Learning in Python](https://scikit-learn.org/stable/index.html)\n",
    "Scikit-learn (Sklearn) is a python library used for machine learning.\n",
    "it is built using NumPy, SciPy, Matplotlib\n",
    "it provides a set of tools for machine learning and statistical modeling including classification, regression, clustering and dimensionality reduction\n",
    "\n",
    "classification - Identifying which category an object belongs to.\n",
    "regression - Predicting a continuous-valued attribute associated with an object.\n",
    "clustering - Automatic grouping of similar objects into sets.\n",
    "dimensionality reduction - Reducing the number of random variables to consider."
   ]
  },
  {
   "cell_type": "markdown",
   "id": "213b95b7-4f44-4950-98fd-aea730bb3137",
   "metadata": {},
   "source": [
    "scikit-learn: machine learning in python — scikit-learn 0.24.2 documentation,”\n",
    "2021. [Online]. Available: https://scikit-learn.org/stable/index.html"
   ]
  },
  {
   "cell_type": "markdown",
   "id": "744ee81a-7a6c-4a2b-8b7e-f14a46d37a89",
   "metadata": {},
   "source": [
    "### what is scikit-learn\n",
    "----"
   ]
  },
  {
   "cell_type": "markdown",
   "id": "3ae52b73-ff24-4d75-aab9-353987bf05d4",
   "metadata": {},
   "source": [
    "### Demonstarte 3x scikit-learn algorithms\n",
    "----"
   ]
  },
  {
   "cell_type": "markdown",
   "id": "185188d4-5cbd-4f92-9985-4af5ae7303ab",
   "metadata": {},
   "source": [
    "### Examples\n",
    "----"
   ]
  },
  {
   "cell_type": "markdown",
   "id": "155430a4-ee58-4cb0-8e76-c4a55a963da6",
   "metadata": {},
   "source": [
    "### Enhancements - plots + visualization\n",
    "----"
   ]
  },
  {
   "cell_type": "code",
   "execution_count": null,
   "id": "647e9e56-a2db-47d7-b416-8d4994a4ee37",
   "metadata": {},
   "outputs": [],
   "source": []
  }
 ],
 "metadata": {
  "kernelspec": {
   "display_name": "Python 3",
   "language": "python",
   "name": "python3"
  },
  "language_info": {
   "codemirror_mode": {
    "name": "ipython",
    "version": 3
   },
   "file_extension": ".py",
   "mimetype": "text/x-python",
   "name": "python",
   "nbconvert_exporter": "python",
   "pygments_lexer": "ipython3",
   "version": "3.8.8"
  }
 },
 "nbformat": 4,
 "nbformat_minor": 5
}
