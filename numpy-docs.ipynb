{
 "cells": [
  {
   "cell_type": "markdown",
   "id": "2a1c0690-0ab1-4e40-be09-e7d22a6c86f0",
   "metadata": {},
   "source": [
    "# From the NumPy Documentation"
   ]
  },
  {
   "cell_type": "markdown",
   "id": "796f1589-6df4-409c-bbff-e70fb7f202ee",
   "metadata": {},
   "source": [
    "https://numpy.org/doc/stable/user/whatisnumpy.html"
   ]
  },
  {
   "cell_type": "markdown",
   "id": "0260636d-e707-409a-a71e-692939aeba6c",
   "metadata": {},
   "source": [
    "***"
   ]
  },
  {
   "cell_type": "code",
   "execution_count": 4,
   "id": "e56924ae-d24a-405a-a963-b05a824ebfaf",
   "metadata": {},
   "outputs": [],
   "source": [
    "import numpy as np"
   ]
  },
  {
   "cell_type": "markdown",
   "id": "c0c4a714-4c6f-4cee-b76f-301cc9d1e37e",
   "metadata": {},
   "source": [
    "np = numpy<br>\n",
    "arrange(n) = creates an array the length of n. starts at zero<br>\n",
    "reshape = gives a shape to the array (rows, columns<br>\n",
    "NOTE - (-1) is important. (-1, 5) it will work out the rows needed based on the columns and vice versa. AKA figure it out yourself"
   ]
  },
  {
   "cell_type": "code",
   "execution_count": 5,
   "id": "a54d77f2-6d96-41eb-8b7e-5cacddf0de3b",
   "metadata": {},
   "outputs": [],
   "source": [
    "a = np.arange(15).reshape(3, 5)"
   ]
  },
  {
   "cell_type": "markdown",
   "id": "6111bfe5-ee0f-40e4-bde4-be7e36a778b5",
   "metadata": {},
   "source": [
    "creating an array of 15. starting at zero (0-14)<br>\n",
    "reshapes the array (3 rows, 5 columns)"
   ]
  },
  {
   "cell_type": "code",
   "execution_count": 3,
   "id": "c28645c4-7997-46b5-9a22-deb81020a85c",
   "metadata": {},
   "outputs": [
    {
     "data": {
      "text/plain": [
       "array([[ 0,  1,  2,  3,  4],\n",
       "       [ 5,  6,  7,  8,  9],\n",
       "       [10, 11, 12, 13, 14]])"
      ]
     },
     "execution_count": 3,
     "metadata": {},
     "output_type": "execute_result"
    }
   ],
   "source": [
    "a"
   ]
  },
  {
   "cell_type": "markdown",
   "id": "a7d5abea-3bff-4393-adee-da4123769db1",
   "metadata": {},
   "source": [
    "NOTE - numpy range function will deal with floating point numbers. Python will not!<br>\n",
    "shape - of an array is the number of elements in each dimension"
   ]
  },
  {
   "cell_type": "code",
   "execution_count": 6,
   "id": "949d0016-d965-4d43-bfe5-4c65c86562fb",
   "metadata": {},
   "outputs": [
    {
     "data": {
      "text/plain": [
       "(3, 5)"
      ]
     },
     "execution_count": 6,
     "metadata": {},
     "output_type": "execute_result"
    }
   ],
   "source": [
    "a.shape"
   ]
  },
  {
   "cell_type": "markdown",
   "id": "7523040e-55f8-4160-a3cf-4326a416738d",
   "metadata": {},
   "source": [
    "ndim - function return the number of dimensions of an array"
   ]
  },
  {
   "cell_type": "code",
   "execution_count": 7,
   "id": "cee34faf-21fb-45f2-882b-60db1bae0a66",
   "metadata": {},
   "outputs": [
    {
     "data": {
      "text/plain": [
       "2"
      ]
     },
     "execution_count": 7,
     "metadata": {},
     "output_type": "execute_result"
    }
   ],
   "source": [
    "a.ndim"
   ]
  },
  {
   "cell_type": "markdown",
   "id": "e509f47f-0813-412e-bf72-82709ebfe1f6",
   "metadata": {},
   "source": [
    "dtype - Type of the data (integer, float, Python object, etc.)"
   ]
  },
  {
   "cell_type": "code",
   "execution_count": 8,
   "id": "775e203d-c8ba-48c5-8b95-0f5a0539ce81",
   "metadata": {},
   "outputs": [
    {
     "data": {
      "text/plain": [
       "dtype('int32')"
      ]
     },
     "execution_count": 8,
     "metadata": {},
     "output_type": "execute_result"
    }
   ],
   "source": [
    "a.dtype"
   ]
  },
  {
   "cell_type": "markdown",
   "id": "73778446-0d87-4658-9061-d3d4139b4250",
   "metadata": {},
   "source": [
    "itemsize - returns the size (in bytes) of each element of a NumPy array"
   ]
  },
  {
   "cell_type": "code",
   "execution_count": 9,
   "id": "06cec698-c59e-417d-886d-04a53f8a0c28",
   "metadata": {},
   "outputs": [
    {
     "data": {
      "text/plain": [
       "4"
      ]
     },
     "execution_count": 9,
     "metadata": {},
     "output_type": "execute_result"
    }
   ],
   "source": [
    "a.itemsize"
   ]
  },
  {
   "cell_type": "markdown",
   "id": "32efb535-417e-4553-973b-65723f48b47a",
   "metadata": {},
   "source": [
    "size - function count the number of elements"
   ]
  },
  {
   "cell_type": "code",
   "execution_count": 10,
   "id": "d1bf6955-bf5d-401b-b796-4b0ee13213ea",
   "metadata": {},
   "outputs": [
    {
     "data": {
      "text/plain": [
       "15"
      ]
     },
     "execution_count": 10,
     "metadata": {},
     "output_type": "execute_result"
    }
   ],
   "source": [
    "a.size"
   ]
  },
  {
   "cell_type": "markdown",
   "id": "01ae9f4a-7502-47b9-8ffb-c378d583c1dd",
   "metadata": {},
   "source": [
    "linspace - creates numeric sequences<br>\n",
    "linspace(start, stop, num=50, endpoint=True, retstep=False, dtype=None, axis=0)"
   ]
  },
  {
   "cell_type": "code",
   "execution_count": 22,
   "id": "4187dfc1-f9bf-4691-935e-aadbcadd77e7",
   "metadata": {},
   "outputs": [],
   "source": [
    "b = np.linspace(0.0, 10.0, 101)"
   ]
  },
  {
   "cell_type": "code",
   "execution_count": 23,
   "id": "16094904-c147-4cd6-b0f6-7603b63015c3",
   "metadata": {},
   "outputs": [
    {
     "data": {
      "text/plain": [
       "array([ 0. ,  0.1,  0.2,  0.3,  0.4,  0.5,  0.6,  0.7,  0.8,  0.9,  1. ,\n",
       "        1.1,  1.2,  1.3,  1.4,  1.5,  1.6,  1.7,  1.8,  1.9,  2. ,  2.1,\n",
       "        2.2,  2.3,  2.4,  2.5,  2.6,  2.7,  2.8,  2.9,  3. ,  3.1,  3.2,\n",
       "        3.3,  3.4,  3.5,  3.6,  3.7,  3.8,  3.9,  4. ,  4.1,  4.2,  4.3,\n",
       "        4.4,  4.5,  4.6,  4.7,  4.8,  4.9,  5. ,  5.1,  5.2,  5.3,  5.4,\n",
       "        5.5,  5.6,  5.7,  5.8,  5.9,  6. ,  6.1,  6.2,  6.3,  6.4,  6.5,\n",
       "        6.6,  6.7,  6.8,  6.9,  7. ,  7.1,  7.2,  7.3,  7.4,  7.5,  7.6,\n",
       "        7.7,  7.8,  7.9,  8. ,  8.1,  8.2,  8.3,  8.4,  8.5,  8.6,  8.7,\n",
       "        8.8,  8.9,  9. ,  9.1,  9.2,  9.3,  9.4,  9.5,  9.6,  9.7,  9.8,\n",
       "        9.9, 10. ])"
      ]
     },
     "execution_count": 23,
     "metadata": {},
     "output_type": "execute_result"
    }
   ],
   "source": [
    "b"
   ]
  },
  {
   "cell_type": "markdown",
   "id": "51f37e9f-90d2-46db-aefe-185eee0583db",
   "metadata": {},
   "source": [
    "zero - Return a new array of given shape and type, filled with zeros.<br>\n",
    "numpy.zeros(shape, dtype=float, order='C', *, like=None)"
   ]
  },
  {
   "cell_type": "code",
   "execution_count": 24,
   "id": "7768a58b-c517-4815-8e49-40f107462e7d",
   "metadata": {},
   "outputs": [
    {
     "data": {
      "text/plain": [
       "array([0., 0., 0., 0., 0.])"
      ]
     },
     "execution_count": 24,
     "metadata": {},
     "output_type": "execute_result"
    }
   ],
   "source": [
    "np.zeros(5)"
   ]
  },
  {
   "cell_type": "code",
   "execution_count": 25,
   "id": "fc37c7ef-5534-4d49-8245-530db557ebaa",
   "metadata": {},
   "outputs": [
    {
     "data": {
      "text/plain": [
       "array([[0., 0.],\n",
       "       [0., 0.]])"
      ]
     },
     "execution_count": 25,
     "metadata": {},
     "output_type": "execute_result"
    }
   ],
   "source": [
    "np.zeros((2, 2))"
   ]
  },
  {
   "cell_type": "markdown",
   "id": "e0b137e5-2d15-4cde-9bdc-0df7be3b9fc9",
   "metadata": {},
   "source": [
    "ones - replica of zero, but returns filled with ones"
   ]
  },
  {
   "cell_type": "code",
   "execution_count": 27,
   "id": "56bfd217-e514-4a1b-af14-19367f4d3050",
   "metadata": {},
   "outputs": [
    {
     "data": {
      "text/plain": [
       "array([[1., 1., 1.],\n",
       "       [1., 1., 1.]])"
      ]
     },
     "execution_count": 27,
     "metadata": {},
     "output_type": "execute_result"
    }
   ],
   "source": [
    "np.ones((2, 3))"
   ]
  },
  {
   "cell_type": "markdown",
   "id": "86894134-b7e9-490e-842a-fffb0c23ed51",
   "metadata": {},
   "source": [
    "eye - return a 2-D array with ones on the diagonal and zeros elsewhere.<br>\n",
    "numpy.eye(N, M=None, k=0, dtype=<class 'float'>, order='C', *, like=None)"
   ]
  },
  {
   "cell_type": "code",
   "execution_count": 30,
   "id": "03022587-7704-465a-b3f9-a8bddaa94c66",
   "metadata": {},
   "outputs": [],
   "source": [
    "c = np.eye(3)"
   ]
  },
  {
   "cell_type": "code",
   "execution_count": 31,
   "id": "0b1ac4b7-0716-4353-9a47-e872f138fd4c",
   "metadata": {},
   "outputs": [
    {
     "data": {
      "text/plain": [
       "array([[1., 0., 0.],\n",
       "       [0., 1., 0.],\n",
       "       [0., 0., 1.]])"
      ]
     },
     "execution_count": 31,
     "metadata": {},
     "output_type": "execute_result"
    }
   ],
   "source": [
    "c"
   ]
  },
  {
   "cell_type": "code",
   "execution_count": 32,
   "id": "aae95510-48ec-4d56-be66-3b9af169c438",
   "metadata": {},
   "outputs": [
    {
     "data": {
      "text/plain": [
       "dtype('float64')"
      ]
     },
     "execution_count": 32,
     "metadata": {},
     "output_type": "execute_result"
    }
   ],
   "source": [
    "c.dtype"
   ]
  },
  {
   "cell_type": "markdown",
   "id": "8d5fab33-273a-42cb-8ddf-8adfb4db350d",
   "metadata": {},
   "source": [
    "astype - Copy of the array, cast to a specified type. float to int. "
   ]
  },
  {
   "cell_type": "code",
   "execution_count": 33,
   "id": "070d475c-46fa-46bb-b3f4-53fe89d7875e",
   "metadata": {},
   "outputs": [
    {
     "data": {
      "text/plain": [
       "array([[1, 0, 0],\n",
       "       [0, 1, 0],\n",
       "       [0, 0, 1]], dtype=int64)"
      ]
     },
     "execution_count": 33,
     "metadata": {},
     "output_type": "execute_result"
    }
   ],
   "source": [
    "c.astype('int64')"
   ]
  },
  {
   "cell_type": "markdown",
   "id": "1d40833f-3c16-4ee2-a5d0-c27183d334c2",
   "metadata": {},
   "source": [
    "slicing - taking elements from one given index to another given index<br>\n",
    "We pass slice instead of index like this: [start:end].<br>\n",
    "We can also define the step, like this: [start:end:step].<br>\n",
    "If we don't pass start its considered 0<br>\n",
    "If we don't pass end its considered length of array in that dimension<br>\n",
    "If we don't pass step its considered 1"
   ]
  },
  {
   "cell_type": "code",
   "execution_count": 35,
   "id": "7203eb8c-82cf-4e94-99b7-107cf5fdf628",
   "metadata": {},
   "outputs": [
    {
     "data": {
      "text/plain": [
       "array([[0., 1., 0.]])"
      ]
     },
     "execution_count": 35,
     "metadata": {},
     "output_type": "execute_result"
    }
   ],
   "source": [
    "c[1:2]"
   ]
  },
  {
   "cell_type": "code",
   "execution_count": 36,
   "id": "550cabf1-3f81-4907-8593-e464016e8c64",
   "metadata": {},
   "outputs": [
    {
     "data": {
      "text/plain": [
       "array([[0., 1., 0.],\n",
       "       [0., 0., 1.]])"
      ]
     },
     "execution_count": 36,
     "metadata": {},
     "output_type": "execute_result"
    }
   ],
   "source": [
    "c[1:]"
   ]
  },
  {
   "cell_type": "code",
   "execution_count": 37,
   "id": "0de1c19b-7cab-4fcb-8cba-8acece01eb73",
   "metadata": {},
   "outputs": [
    {
     "data": {
      "text/plain": [
       "array([[1., 0., 0.],\n",
       "       [0., 1., 0.]])"
      ]
     },
     "execution_count": 37,
     "metadata": {},
     "output_type": "execute_result"
    }
   ],
   "source": [
    "c[:2]"
   ]
  },
  {
   "cell_type": "code",
   "execution_count": 42,
   "id": "d4f62297-6db9-4688-ae69-050abae859e4",
   "metadata": {},
   "outputs": [
    {
     "data": {
      "text/plain": [
       "array([], shape=(0, 3), dtype=float64)"
      ]
     },
     "execution_count": 42,
     "metadata": {},
     "output_type": "execute_result"
    }
   ],
   "source": [
    "c[1:1:1]"
   ]
  },
  {
   "cell_type": "markdown",
   "id": "62475997-9624-4321-8ef1-292391cea709",
   "metadata": {},
   "source": [
    "***"
   ]
  },
  {
   "cell_type": "markdown",
   "id": "1d4e6049-801c-49a6-a7f4-f62abf92cc9c",
   "metadata": {},
   "source": [
    "# End"
   ]
  }
 ],
 "metadata": {
  "kernelspec": {
   "display_name": "Python 3",
   "language": "python",
   "name": "python3"
  },
  "language_info": {
   "codemirror_mode": {
    "name": "ipython",
    "version": 3
   },
   "file_extension": ".py",
   "mimetype": "text/x-python",
   "name": "python",
   "nbconvert_exporter": "python",
   "pygments_lexer": "ipython3",
   "version": "3.8.8"
  }
 },
 "nbformat": 4,
 "nbformat_minor": 5
}
